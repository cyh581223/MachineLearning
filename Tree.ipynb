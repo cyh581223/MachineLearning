{
 "cells": [
  {
   "cell_type": "code",
   "execution_count": 2,
   "metadata": {},
   "outputs": [],
   "source": [
    "import numpy as np\n",
    "import pandas as pd\n",
    "import matplotlib.pyplot as plt\n",
    "import urllib3\n",
    "import csv\n",
    "from sklearn.model_selection import train_test_split\n",
    "from sklearn.utils import shuffle #洗牌\n",
    "from sklearn.tree import DecisionTreeClassifier\n",
    "from sklearn.tree import export_graphviz\n",
    "from sklearn.model_selection import KFold\n",
    "from sklearn.ensemble import RandomForestClassifier\n",
    "from sklearn.metrics import accuracy_score\n",
    "import seaborn as sns\n",
    "from sklearn.preprocessing import StandardScaler\n",
    "from sklearn.neighbors import KNeighborsClassifier\n",
    "%matplotlib inline"
   ]
  },
  {
   "cell_type": "code",
   "execution_count": null,
   "metadata": {},
   "outputs": [],
   "source": []
  },
  {
   "cell_type": "code",
   "execution_count": 3,
   "metadata": {},
   "outputs": [
    {
     "name": "stdout",
     "output_type": "stream",
     "text": [
      "    school sex  age address famsize Pstatus  Medu  Fedu      Mjob      Fjob  \\\n",
      "0       GP   F   18       U     GT3       A     4     4   at_home   teacher   \n",
      "1       GP   F   17       U     GT3       T     1     1   at_home     other   \n",
      "2       GP   F   15       U     LE3       T     1     1   at_home     other   \n",
      "3       GP   F   15       U     GT3       T     4     2    health  services   \n",
      "4       GP   F   16       U     GT3       T     3     3     other     other   \n",
      "5       GP   M   16       U     LE3       T     4     3  services     other   \n",
      "6       GP   M   16       U     LE3       T     2     2     other     other   \n",
      "7       GP   F   17       U     GT3       A     4     4     other   teacher   \n",
      "8       GP   M   15       U     LE3       A     3     2  services     other   \n",
      "9       GP   M   15       U     GT3       T     3     4     other     other   \n",
      "10      GP   F   15       U     GT3       T     4     4   teacher    health   \n",
      "11      GP   F   15       U     GT3       T     2     1  services     other   \n",
      "12      GP   M   15       U     LE3       T     4     4    health  services   \n",
      "13      GP   M   15       U     GT3       T     4     3   teacher     other   \n",
      "14      GP   M   15       U     GT3       A     2     2     other     other   \n",
      "15      GP   F   16       U     GT3       T     4     4    health     other   \n",
      "16      GP   F   16       U     GT3       T     4     4  services  services   \n",
      "17      GP   F   16       U     GT3       T     3     3     other     other   \n",
      "18      GP   M   17       U     GT3       T     3     2  services  services   \n",
      "19      GP   M   16       U     LE3       T     4     3    health     other   \n",
      "20      GP   M   15       U     GT3       T     4     3   teacher     other   \n",
      "21      GP   M   15       U     GT3       T     4     4    health    health   \n",
      "22      GP   M   16       U     LE3       T     4     2   teacher     other   \n",
      "23      GP   M   16       U     LE3       T     2     2     other     other   \n",
      "24      GP   F   15       R     GT3       T     2     4  services    health   \n",
      "25      GP   F   16       U     GT3       T     2     2  services  services   \n",
      "26      GP   M   15       U     GT3       T     2     2     other     other   \n",
      "27      GP   M   15       U     GT3       T     4     2    health  services   \n",
      "28      GP   M   16       U     LE3       A     3     4  services     other   \n",
      "29      GP   M   16       U     GT3       T     4     4   teacher   teacher   \n",
      "..     ...  ..  ...     ...     ...     ...   ...   ...       ...       ...   \n",
      "365     MS   M   18       R     GT3       T     1     3   at_home     other   \n",
      "366     MS   M   18       U     LE3       T     4     4   teacher  services   \n",
      "367     MS   F   17       R     GT3       T     1     1     other  services   \n",
      "368     MS   F   18       U     GT3       T     2     3   at_home  services   \n",
      "369     MS   F   18       R     GT3       T     4     4     other   teacher   \n",
      "370     MS   F   19       U     LE3       T     3     2  services  services   \n",
      "371     MS   M   18       R     LE3       T     1     2   at_home  services   \n",
      "372     MS   F   17       U     GT3       T     2     2     other   at_home   \n",
      "373     MS   F   17       R     GT3       T     1     2     other     other   \n",
      "374     MS   F   18       R     LE3       T     4     4     other     other   \n",
      "375     MS   F   18       R     GT3       T     1     1     other     other   \n",
      "376     MS   F   20       U     GT3       T     4     2    health     other   \n",
      "377     MS   F   18       R     LE3       T     4     4   teacher  services   \n",
      "378     MS   F   18       U     GT3       T     3     3     other     other   \n",
      "379     MS   F   17       R     GT3       T     3     1   at_home     other   \n",
      "380     MS   M   18       U     GT3       T     4     4   teacher   teacher   \n",
      "381     MS   M   18       R     GT3       T     2     1     other     other   \n",
      "382     MS   M   17       U     GT3       T     2     3     other  services   \n",
      "383     MS   M   19       R     GT3       T     1     1     other  services   \n",
      "384     MS   M   18       R     GT3       T     4     2     other     other   \n",
      "385     MS   F   18       R     GT3       T     2     2   at_home     other   \n",
      "386     MS   F   18       R     GT3       T     4     4   teacher   at_home   \n",
      "387     MS   F   19       R     GT3       T     2     3  services     other   \n",
      "388     MS   F   18       U     LE3       T     3     1   teacher  services   \n",
      "389     MS   F   18       U     GT3       T     1     1     other     other   \n",
      "390     MS   M   20       U     LE3       A     2     2  services  services   \n",
      "391     MS   M   17       U     LE3       T     3     1  services  services   \n",
      "392     MS   M   21       R     GT3       T     1     1     other     other   \n",
      "393     MS   M   18       R     LE3       T     3     2  services     other   \n",
      "394     MS   M   19       U     LE3       T     1     1     other   at_home   \n",
      "\n",
      "    ... famrel freetime  goout  Dalc  Walc health absences  G1  G2  G3  \n",
      "0   ...      4        3      4     1     1      3        6   5   6   6  \n",
      "1   ...      5        3      3     1     1      3        4   5   5   6  \n",
      "2   ...      4        3      2     2     3      3       10   7   8  10  \n",
      "3   ...      3        2      2     1     1      5        2  15  14  15  \n",
      "4   ...      4        3      2     1     2      5        4   6  10  10  \n",
      "5   ...      5        4      2     1     2      5       10  15  15  15  \n",
      "6   ...      4        4      4     1     1      3        0  12  12  11  \n",
      "7   ...      4        1      4     1     1      1        6   6   5   6  \n",
      "8   ...      4        2      2     1     1      1        0  16  18  19  \n",
      "9   ...      5        5      1     1     1      5        0  14  15  15  \n",
      "10  ...      3        3      3     1     2      2        0  10   8   9  \n",
      "11  ...      5        2      2     1     1      4        4  10  12  12  \n",
      "12  ...      4        3      3     1     3      5        2  14  14  14  \n",
      "13  ...      5        4      3     1     2      3        2  10  10  11  \n",
      "14  ...      4        5      2     1     1      3        0  14  16  16  \n",
      "15  ...      4        4      4     1     2      2        4  14  14  14  \n",
      "16  ...      3        2      3     1     2      2        6  13  14  14  \n",
      "17  ...      5        3      2     1     1      4        4   8  10  10  \n",
      "18  ...      5        5      5     2     4      5       16   6   5   5  \n",
      "19  ...      3        1      3     1     3      5        4   8  10  10  \n",
      "20  ...      4        4      1     1     1      1        0  13  14  15  \n",
      "21  ...      5        4      2     1     1      5        0  12  15  15  \n",
      "22  ...      4        5      1     1     3      5        2  15  15  16  \n",
      "23  ...      5        4      4     2     4      5        0  13  13  12  \n",
      "24  ...      4        3      2     1     1      5        2  10   9   8  \n",
      "25  ...      1        2      2     1     3      5       14   6   9   8  \n",
      "26  ...      4        2      2     1     2      5        2  12  12  11  \n",
      "27  ...      2        2      4     2     4      1        4  15  16  15  \n",
      "28  ...      5        3      3     1     1      5        4  11  11  11  \n",
      "29  ...      4        4      5     5     5      5       16  10  12  11  \n",
      "..  ...    ...      ...    ...   ...   ...    ...      ...  ..  ..  ..  \n",
      "365 ...      3        3      4     2     4      3        4  10  10  10  \n",
      "366 ...      4        2      2     2     2      5        0  13  13  13  \n",
      "367 ...      5        2      1     1     2      1        0   7   6   0  \n",
      "368 ...      5        2      3     1     2      4        0  11  10  10  \n",
      "369 ...      3        2      2     4     2      5       10  14  12  11  \n",
      "370 ...      3        2      2     1     1      3        4   7   7   9  \n",
      "371 ...      4        3      3     2     3      3        3  14  12  12  \n",
      "372 ...      3        4      3     1     1      3        8  13  11  11  \n",
      "373 ...      3        5      5     1     3      1       14   6   5   5  \n",
      "374 ...      5        4      4     1     1      1        0  19  18  19  \n",
      "375 ...      4        3      2     1     2      4        2   8   8  10  \n",
      "376 ...      5        4      3     1     1      3        4  15  14  15  \n",
      "377 ...      5        4      3     3     4      2        4   8   9  10  \n",
      "378 ...      4        1      3     1     2      1        0  15  15  15  \n",
      "379 ...      4        5      4     2     3      1       17  10  10  10  \n",
      "380 ...      3        2      4     1     4      2        4  15  14  14  \n",
      "381 ...      4        4      3     1     3      5        5   7   6   7  \n",
      "382 ...      4        4      3     1     1      3        2  11  11  10  \n",
      "383 ...      4        3      2     1     3      5        0   6   5   0  \n",
      "384 ...      5        4      3     4     3      3       14   6   5   5  \n",
      "385 ...      5        3      3     1     3      4        2  10   9  10  \n",
      "386 ...      4        4      3     2     2      5        7   6   5   6  \n",
      "387 ...      5        4      2     1     2      5        0   7   5   0  \n",
      "388 ...      4        3      4     1     1      1        0   7   9   8  \n",
      "389 ...      1        1      1     1     1      5        0   6   5   0  \n",
      "390 ...      5        5      4     4     5      4       11   9   9   9  \n",
      "391 ...      2        4      5     3     4      2        3  14  16  16  \n",
      "392 ...      5        5      3     3     3      3        3  10   8   7  \n",
      "393 ...      4        4      1     3     4      5        0  11  12  10  \n",
      "394 ...      3        2      3     3     3      5        5   8   9   9  \n",
      "\n",
      "[395 rows x 33 columns]\n"
     ]
    }
   ],
   "source": [
    "df = pd.read_csv('student-mat.csv',sep=';')  \n",
    "select_df = pd.DataFrame(df)\n",
    "print(select_df)"
   ]
  },
  {
   "cell_type": "code",
   "execution_count": 4,
   "metadata": {},
   "outputs": [],
   "source": [
    "select_df['school'] = select_df['school'].str.replace('GP','5')\n",
    "select_df['school'] = select_df['school'].str.replace('MS','10')\n",
    "select_df['sex'] = select_df['sex'].str.replace('F','5')\n",
    "select_df['sex'] = select_df['sex'].str.replace('M','10')\n",
    "select_df['address'] = select_df['address'].str.replace('U','5')\n",
    "select_df['address'] = select_df['address'].str.replace('R','10')\n",
    "select_df['famsize'] = select_df['famsize'].str.replace('LE3','5')\n",
    "select_df['famsize'] = select_df['famsize'].str.replace('GT3','10')\n",
    "select_df['Pstatus'] = select_df['Pstatus'].str.replace('T','5')\n",
    "select_df['Pstatus'] = select_df['Pstatus'].str.replace('A','10')\n",
    "select_df['schoolsup'] = select_df['schoolsup'].str.replace('no','5')\n",
    "select_df['schoolsup'] = select_df['schoolsup'].str.replace('yes','10')\n",
    "select_df['famsup'] = select_df['famsup'].str.replace('no','5')\n",
    "select_df['famsup'] = select_df['famsup'].str.replace('yes','10')\n",
    "select_df['paid'] = select_df['paid'].str.replace('no','5')\n",
    "select_df['paid'] = select_df['paid'].str.replace('yes','10')\n",
    "select_df['activities'] = select_df['activities'].str.replace('no','5')\n",
    "select_df['activities'] = select_df['activities'].str.replace('yes','10')\n",
    "select_df['nursery'] = select_df['nursery'].str.replace('no','5')\n",
    "select_df['nursery'] = select_df['nursery'].str.replace('yes','10')\n",
    "select_df['higher'] = select_df['higher'].str.replace('no','5')\n",
    "select_df['higher'] = select_df['higher'].str.replace('yes','10')\n",
    "select_df['internet'] = select_df['internet'].str.replace('no','5')\n",
    "select_df['internet'] = select_df['internet'].str.replace('yes','10')\n",
    "select_df['romantic'] = select_df['romantic'].str.replace('no','5')\n",
    "select_df['romantic'] = select_df['romantic'].str.replace('yes','10')\n",
    "#print(select_df)"
   ]
  },
  {
   "cell_type": "code",
   "execution_count": 5,
   "metadata": {},
   "outputs": [],
   "source": [
    "select_df = shuffle(select_df)\n",
    "x = select_df.drop('G3',axis =1)[['school','sex','address','famsize','Pstatus','schoolsup','famsup','paid','activities',\n",
    "                                  'nursery','higher','internet','romantic','age','Medu','Fedu','traveltime','studytime',\n",
    "                                  'failures','famrel','freetime','goout','Dalc','Walc','health','absences','G1','G2']]\n",
    "num_x = select_df.drop('G3',axis =1)[['age','Medu','Fedu','traveltime','studytime','failures','famrel',\n",
    "                                      'freetime','goout','Dalc','Walc','health','absences','G1','G2']]\n",
    "bin_x = select_df.drop('G3',axis =1)[['school','sex','address','famsize','Pstatus','schoolsup','famsup','paid','activities',\n",
    "                                  'nursery','higher','internet','romantic']]\n",
    "y = select_df['G3'].values.reshape(-1,1)\n",
    "\n",
    "#print(y)"
   ]
  },
  {
   "cell_type": "code",
   "execution_count": 6,
   "metadata": {},
   "outputs": [],
   "source": [
    "def build_tree(feature,target):\n",
    "    tree = DecisionTreeClassifier()\n",
    "    tree.fit(feature, target)\n",
    "    return tree"
   ]
  },
  {
   "cell_type": "code",
   "execution_count": 7,
   "metadata": {},
   "outputs": [
    {
     "name": "stdout",
     "output_type": "stream",
     "text": [
      "0.44537815126050423\n",
      "[10  8 11  0 11 15  7  9 11  0  0 10  6 14 10  0  9 15  9 12 14  9 10 13\n",
      " 13  0 11 10  9 10  0 15 11 11  8 10 15  0  8 15  0  8 12 13 10 12 11  0\n",
      " 15  0 10  0 18 14  8 11  9 15 15 15 12 13 12 11 15  7 15 12 10 15 10 13\n",
      " 13 12 10 16 14 19 10  5 11 12 12 10  8 15 16 12 11 11 12 12  9 11 15 14\n",
      "  7 12  8 11 11  6  0 13 15  8 10 16  0 10 15  0  7 13 18 10 11  0  8]\n"
     ]
    }
   ],
   "source": [
    "def HoldoutValidation(feature,target):\n",
    "    x_train,x_test,y_train,y_test=train_test_split(feature,target,random_state=123, train_size=0.7,test_size = 0.3)  \n",
    "    return x_train,x_test,y_train,y_test\n",
    "    #train_test_split(feature,target, train_size=0.7,test_size = 0.3)\n",
    "    \n",
    "\n",
    "x1_train,x1_test,y1_train,y1_test=HoldoutValidation(num_x,y)\n",
    "#print(x_train,y_train)\n",
    "tree=build_tree(x1_train,y1_train)\n",
    "print(tree.score(x1_test,y1_test)) \n",
    "print(tree.predict(x1_test))"
   ]
  },
  {
   "cell_type": "code",
   "execution_count": 8,
   "metadata": {},
   "outputs": [
    {
     "name": "stdout",
     "output_type": "stream",
     "text": [
      "Percentage of the average accurate model: 0.39480684709692343\n"
     ]
    }
   ],
   "source": [
    "def K_fold(feature,target,k=3):\n",
    "    kf = KFold(n_splits=k, shuffle=True)\n",
    "    tmp=0\n",
    "    for train_index, test_index in kf.split(feature):\n",
    "        x_train, x_test = feature.iloc[train_index], feature.iloc[test_index]\n",
    "        y_train, y_test = target[train_index], target[test_index]\n",
    "\n",
    "        tree = build_tree(x_train,y_train)\n",
    "        tmp +=tree.score(x_test,y_test)\n",
    "    tmp/=k\n",
    "    print('Percentage of the average accurate model:',tmp)   \n",
    "        \n",
    "K_fold(num_x,y)"
   ]
  },
  {
   "cell_type": "code",
   "execution_count": 9,
   "metadata": {},
   "outputs": [
    {
     "name": "stdout",
     "output_type": "stream",
     "text": [
      "0.4369747899159664\n"
     ]
    },
    {
     "name": "stderr",
     "output_type": "stream",
     "text": [
      "D:\\Anaconda\\lib\\site-packages\\ipykernel_launcher.py:4: DataConversionWarning: A column-vector y was passed when a 1d array was expected. Please change the shape of y to (n_samples,), for example using ravel().\n",
      "  after removing the cwd from sys.path.\n"
     ]
    }
   ],
   "source": [
    "#RandomForest\n",
    "def RandomForest(x,y):\n",
    "    forest = RandomForestClassifier(criterion='entropy',n_estimators=100)\n",
    "    forest.fit(x,y)\n",
    "    return forest\n",
    "    \n",
    "x_train,x_test,y_train,y_test = HoldoutValidation(num_x,y)     \n",
    "forest = RandomForest(x_train,y_train)\n",
    "print(forest.score(x_test,y_test))"
   ]
  },
  {
   "cell_type": "code",
   "execution_count": 10,
   "metadata": {},
   "outputs": [
    {
     "name": "stderr",
     "output_type": "stream",
     "text": [
      "D:\\Anaconda\\lib\\site-packages\\sklearn\\preprocessing\\data.py:625: DataConversionWarning: Data with input dtype int64 were all converted to float64 by StandardScaler.\n",
      "  return self.partial_fit(X, y)\n",
      "D:\\Anaconda\\lib\\site-packages\\ipykernel_launcher.py:13: DataConversionWarning: Data with input dtype int64 were all converted to float64 by StandardScaler.\n",
      "  del sys.path[0]\n",
      "D:\\Anaconda\\lib\\site-packages\\ipykernel_launcher.py:7: DataConversionWarning: A column-vector y was passed when a 1d array was expected. Please change the shape of y to (n_samples, ), for example using ravel().\n",
      "  import sys\n",
      "D:\\Anaconda\\lib\\site-packages\\ipykernel_launcher.py:7: DataConversionWarning: A column-vector y was passed when a 1d array was expected. Please change the shape of y to (n_samples, ), for example using ravel().\n",
      "  import sys\n"
     ]
    },
    {
     "name": "stdout",
     "output_type": "stream",
     "text": [
      "[10  8 10  8 10 11 11  8  8  0  6  8  6 13 11  0  0 12  9  0 15  8  9 13\n",
      " 11  9  8 11 11  0 10 13 11  6  9 10 11  0  0 12  0  0 12 12  8  8 10  0\n",
      " 12  8 11  7 16 13  6 12  9 11 11 11 12 12 10 11 15  7 14 11  8 12  9 11\n",
      " 13 11 10 10 11 18  0  8 11 12 11  8  8 12 15 10  9 11 11 14 10 11 16 11\n",
      "  6 14  7 11 11 10  6 11 10  8 11 14  0 10 11  6  6 10 16  8  6  0  8]\n",
      "k= 3 : 0.21008403361344538\n",
      "[10  8 10  8 10 11 10  8 12  0  0 11  6 13 11  0  0 14  9 12 15  8 13 13\n",
      " 11  8  0 11 11  0 10 15 11 11  9 10 11  0  0 12  0  0 11 12  8 11 10  0\n",
      "  0  6 10  8 16 13  6 10  9 11 14 11 11 12 12 11 15  7 14 11  0 12  0 11\n",
      " 13 11 10 10 11 18  0  8 11 11 14  8  6 12 15 10  9  9 11 14 10 11 14 11\n",
      "  6 14  7 11 11 10  6 11 10 11 11 12  0 10 10  6 10 14 16  8 11  0  0]\n",
      "k= 4 : 0.2605042016806723\n",
      "[10  8 10 10 10 11  9  8  8  0  0 11  6 13 13  0  0 14  9 12 15  8 10 13\n",
      "  6  8  0 11 11  0 10 15 11 11  9 10 15  0  0 12  0  0 11  8  8 11 10 11\n",
      "  0  6 10  8 15 11 10 10  9 12 14 11 10 12 12 11 15  7 14 11  8 19 11 11\n",
      " 10 11 13 10 10 18  0  8 11 15 14  8  8 12 15  6  9  9 11 14 11 11 13 11\n",
      "  8 14  8 11 11 10  6 11 10 11  9 12  0 10 10  6  8 14 15  8 11  0  0]\n",
      "k= 5 : 0.226890756302521\n",
      "[10  8 10 10 10 11 11  8  8  0  6 11  6 13 13  0 10 12 10 12 11  8 10 13\n",
      " 15  0 12 11 11  0 10 15 11 11  9 10 15  0  0 12  0  0 11  5  8 11 10 11\n",
      "  0  6 10  8 15 11 10  0  9 12 14 11 10 12 12 11 15  7 14 11  8 19  9 11\n",
      " 10 11 10 18 10 18  9  0 11 15 14 10  8 13 15  6  9  9 11 14 11 11 11 11\n",
      "  6 11  8 11 11 10  6 11 10 11 11 14  0 10 12  6  8 14 15  8 11  0  0]\n",
      "k= 6 : 0.19327731092436976\n",
      "[10  8 10 10 10 11 11 11  8 10  6 11  6 13 13  0 10 12 10 11 11  8 10 13\n",
      " 15 11 12 11 11  0 10 15 11 11  9 10 15  0  0 14  0  0 11 15  8 11 10 10\n",
      " 14  6 10  8 15 11 10 10  9 12 14 11  9 12 12 11 15  7 14 11  8 19  9 11\n",
      " 10 11 10 11 10 18  9  8 11 15 10 10  8 13 13 11  9  9 11 14 11 11 11 10\n",
      "  6 11  8 11 11 10  6 15 10 11 11 14  0 10 12  6  6 10 15 10 11  0  0]\n",
      "k= 7 : 0.19327731092436976\n",
      "[10  8 10 10 10 11 10 10  8 10  6 11  6 14 13  0 10 12 10 11 11  8 10 13\n",
      " 13 11 12 11 11 14  0 11 11 11  9 10 15  0  0 14  0  0 12 15  8 11 10 10\n",
      " 14  6 10  8 15 11 10 10 11 12 14 11  8 12 12 13 15  8 14 11  8 14  9 11\n",
      " 10 11 10 11 11 18  0  8 11 15 10 10  8 13 13 11  9 11  9 14 11 11 14 11\n",
      "  6 11  8 11 11 10  6 15 10 11 11 14  0 10 12  6  6 10 15 10 11  0  0]\n",
      "k= 8 : 0.21008403361344538\n",
      "[10  8 10 10 10 11 10 10  8 10  6 11  6 14 13  0 10 12 10  0 11  8 10 13\n",
      " 13 11 12 11 11 13  0 15 11 11  9 10 15  0  0 14  0 10 12 15 10  8 10 10\n",
      " 14  6 10  8 15 11 10 10 11 12 14 11 14 12 12 13 15  8 14 11  8 14  9 11\n",
      " 10 11 13 11 10 16  0  8 11 11 10 10  8 13 15 11  9 11  9 15 11 11 14 11\n",
      "  6 11  8 11 11 10  6 15 10 11 11 11  0 10 12  6  6 10 15 10 11  0  0]\n",
      "k= 9 : 0.226890756302521\n"
     ]
    },
    {
     "name": "stderr",
     "output_type": "stream",
     "text": [
      "D:\\Anaconda\\lib\\site-packages\\ipykernel_launcher.py:7: DataConversionWarning: A column-vector y was passed when a 1d array was expected. Please change the shape of y to (n_samples, ), for example using ravel().\n",
      "  import sys\n",
      "D:\\Anaconda\\lib\\site-packages\\ipykernel_launcher.py:7: DataConversionWarning: A column-vector y was passed when a 1d array was expected. Please change the shape of y to (n_samples, ), for example using ravel().\n",
      "  import sys\n",
      "D:\\Anaconda\\lib\\site-packages\\ipykernel_launcher.py:7: DataConversionWarning: A column-vector y was passed when a 1d array was expected. Please change the shape of y to (n_samples, ), for example using ravel().\n",
      "  import sys\n",
      "D:\\Anaconda\\lib\\site-packages\\ipykernel_launcher.py:7: DataConversionWarning: A column-vector y was passed when a 1d array was expected. Please change the shape of y to (n_samples, ), for example using ravel().\n",
      "  import sys\n",
      "D:\\Anaconda\\lib\\site-packages\\ipykernel_launcher.py:7: DataConversionWarning: A column-vector y was passed when a 1d array was expected. Please change the shape of y to (n_samples, ), for example using ravel().\n",
      "  import sys\n"
     ]
    }
   ],
   "source": [
    "#KNN\n",
    "accurate_rate = [0,0,0,0,0,0,0,0,0,0]\n",
    "\n",
    "def KNN(x,y,i): # ,test_feature,test_target\n",
    "    x_train,x_test,y_train,y_test =HoldoutValidation(x,y)\n",
    "    knn = KNeighborsClassifier(n_neighbors=i)\n",
    "    knn.fit(x_train,y_train)\n",
    "    accurate_rate[i]=knn.score(x_test,y_test)\n",
    "    print(knn.predict(x_test))\n",
    "def Scaler(x):\n",
    "    scaler = StandardScaler()\n",
    "    scaler.fit(x)\n",
    "    scaler_feature=scaler.transform(x)\n",
    "    scaler_x = pd.DataFrame(scaler_feature,columns=x.columns)\n",
    "    #print(scaler_x)\n",
    "    \n",
    "    return scaler_x\n",
    "    \n",
    "\n",
    "scaler_x= Scaler(num_x)\n",
    "for i in range(3,10):\n",
    "    KNN(scaler_x,y,i)\n",
    "    print('k=',i,':',accurate_rate[i])"
   ]
  },
  {
   "cell_type": "code",
   "execution_count": null,
   "metadata": {},
   "outputs": [],
   "source": []
  },
  {
   "cell_type": "code",
   "execution_count": 11,
   "metadata": {},
   "outputs": [
    {
     "name": "stdout",
     "output_type": "stream",
     "text": [
      "0.10084033613445378\n"
     ]
    }
   ],
   "source": [
    "x1_train,x1_test,y1_train,y1_test=HoldoutValidation(bin_x,y)\n",
    "#print(x_train,y_train)\n",
    "tree=build_tree(x1_train,y1_train)\n",
    "print(tree.score(x1_test,y1_test)) "
   ]
  },
  {
   "cell_type": "code",
   "execution_count": 12,
   "metadata": {},
   "outputs": [
    {
     "name": "stdout",
     "output_type": "stream",
     "text": [
      "Percentage of the average accurate model: 0.34177654406662045\n"
     ]
    }
   ],
   "source": [
    "K_fold(num_x,y)"
   ]
  },
  {
   "cell_type": "code",
   "execution_count": 13,
   "metadata": {},
   "outputs": [
    {
     "name": "stdout",
     "output_type": "stream",
     "text": [
      "0.07563025210084033\n"
     ]
    },
    {
     "name": "stderr",
     "output_type": "stream",
     "text": [
      "D:\\Anaconda\\lib\\site-packages\\ipykernel_launcher.py:4: DataConversionWarning: A column-vector y was passed when a 1d array was expected. Please change the shape of y to (n_samples,), for example using ravel().\n",
      "  after removing the cwd from sys.path.\n"
     ]
    }
   ],
   "source": [
    "x_train,x_test,y_train,y_test = HoldoutValidation(bin_x,y)     \n",
    "forest = RandomForest(x_train,y_train)\n",
    "print(forest.score(x_test,y_test))"
   ]
  },
  {
   "cell_type": "code",
   "execution_count": 14,
   "metadata": {},
   "outputs": [
    {
     "name": "stderr",
     "output_type": "stream",
     "text": [
      "D:\\Anaconda\\lib\\site-packages\\sklearn\\preprocessing\\data.py:625: DataConversionWarning: Data with input dtype object were all converted to float64 by StandardScaler.\n",
      "  return self.partial_fit(X, y)\n",
      "D:\\Anaconda\\lib\\site-packages\\ipykernel_launcher.py:13: DataConversionWarning: Data with input dtype object were all converted to float64 by StandardScaler.\n",
      "  del sys.path[0]\n"
     ]
    },
    {
     "name": "stdout",
     "output_type": "stream",
     "text": [
      "[11 10  8 11  6  6  6  8  9  5 15 10  6  0  0  6  8 11 10  9  8  8  0 15\n",
      "  6 11 10  8 10 15  7  9  8  8  9 11 10 10  0  8  0  7 12  8  6  6  0  0\n",
      "  6 16 13  6  8 11 10 11  8 11  0  8 11  0 10 15 11 10  6 10  0  6  8  6\n",
      " 15 18 10 12  6 13  9 13  9 15  6  0 10  7 13 10  9  8  0 15  8 10  9  6\n",
      "  8 17  8 16 11  9  0 11 12  9 12  8  0  9 13  9  0  8 10  0  8  0 10]\n",
      "k= 3 : 0.1092436974789916\n",
      "[11 10  0 11  6  6 11  8  9  5 15 10  6 11  0  6  0 11 10 16  8  0 15 13\n",
      " 16 11 10  0 10 13  7  9  6 10  8 11 10 10  0  8  0  7 12  8  6 13  0  0\n",
      "  8 16  0 16  8 11 10 11  0 11  0  0 11  0 11 15 11 10  6 10  0  6  0  6\n",
      " 15 18 10  5  6  0 14  0  9 15  6  0 10  9  0 16 14 11  0 13 11 10 14  6\n",
      "  8 11  8 16 11  9  0 11  5  9 12  8 11  9 13  9  0  8 16  0  0  0 10]\n",
      "k= 4 : 0.12605042016806722\n",
      "[11  8 11 11  6 11 11 15  9  5 15  7  6 11  0  6  0 11 10 16  8  0 15 13\n",
      " 16 11 10 11 10 13 10 12  6 10  8 11 10 10  0  8  0  7  8  8  6 13  0  0\n",
      "  8 16  0 16 10 11 10 11  0 11 10  0 11  0 10 15 11 10  0 10  0 13  0  0\n",
      " 15 18 10  5  0  0 14  0  9 15  6  0 10  9  0 16 14 11  0 13 11 10 14  6\n",
      " 10  8  8 16 11  7  0 11  5  9 15  8 11  7 13  0 12 15 16  0  0  0 10]\n",
      "k= 5 : 0.11764705882352941\n",
      "[11 10 11 11 11 11  8 15  9  5 15  7  6 11  0  6  0 11 10 11 11  0 15 11\n",
      " 16 11 10 11 10 11 10 12  6 10  8 11  0 10 15  8  0  7  8  8  0 13  0  0\n",
      "  8 16  0 16 10 11 10 11  0 11 10  0 11  0 10 15 11 10  0  0  0 13  0  0\n",
      " 15 11 13  5  0  0 14  0  9 15  6  0 10  9  0 16 14 11  0 11 11 10 14  6\n",
      " 10  8  8 16 11  7  0 11  5 11 15 13 11  7 13 14  0 15 16  0  0  0 10]\n",
      "k= 6 : 0.11764705882352941\n",
      "[11  8 15 11  8 11  6 15  9  0 13  0  6 11  0  6 14 11 10 11 11 14 15 13\n",
      "  6 11 10 15 10 13 10  9  6 10 14 11 10 10 15  8  0 10  8  8 13 13  0  0\n",
      "  8 16  0  6 10 11 10 11 14 11 10  0 11  0 10 15 11 10  0 10  0 13 14 11\n",
      " 15 11 13 18  0  0 14  0  9 15  6  0 10  9  0 13 14 11  0 13 11 10 14  6\n",
      " 10  8  8 16 11  6  0 11 18 11 15 10 11  6 13 14  0 15 13  0 14  0 10]\n",
      "k= 7 : 0.1092436974789916\n",
      "[11  8 15 11  8 11  6 15  9  0 13 13 10 11  0  6 11 11 10 11 11 11 15 13\n",
      "  6 11 10 15  8 13 10  9  6 10 14 11 10 10  0  8  0 10 12  8 11 13  0  0\n",
      "  8 16  8  6 10 11 10 13 11  6 10  0 11  0 10 15 11 10  9 10  8 13 11 11\n",
      " 15 11 10 16  9  8 14  8  9 15 14  0 10  9  8 10 14 11 13 13 11 10 14  6\n",
      " 10  8  8 16 11 11  0 13 16 11 15 10 11 11 13  9  0 15 10  0 11  0 13]\n",
      "k= 8 : 0.14285714285714285\n",
      "[11  8 15 11 11 11 11 15  9 14 13 13 10  0  0  6 11 11 15 11 11 11 15 13\n",
      "  6 11 15 15 11 13 10  9  8 10 14 11 10 10  0  8  0 10  8  8 11 13  0  0\n",
      "  8 16  8  6 10 11 10 13 11 11 13 11 11 13 11 15 11 11  9 10  8 13 11  0\n",
      " 15 11 13 16  9  8 10  8  9 15 14  0 10  9  8 10 10 11 13 13 11 10 10  6\n",
      " 10 15  8 16 11  6  0 13 16 11 13 10  0  6 13  9  0 15 10  0 11  0 11]\n",
      "k= 9 : 0.11764705882352941\n"
     ]
    },
    {
     "name": "stderr",
     "output_type": "stream",
     "text": [
      "D:\\Anaconda\\lib\\site-packages\\ipykernel_launcher.py:7: DataConversionWarning: A column-vector y was passed when a 1d array was expected. Please change the shape of y to (n_samples, ), for example using ravel().\n",
      "  import sys\n",
      "D:\\Anaconda\\lib\\site-packages\\ipykernel_launcher.py:7: DataConversionWarning: A column-vector y was passed when a 1d array was expected. Please change the shape of y to (n_samples, ), for example using ravel().\n",
      "  import sys\n",
      "D:\\Anaconda\\lib\\site-packages\\ipykernel_launcher.py:7: DataConversionWarning: A column-vector y was passed when a 1d array was expected. Please change the shape of y to (n_samples, ), for example using ravel().\n",
      "  import sys\n",
      "D:\\Anaconda\\lib\\site-packages\\ipykernel_launcher.py:7: DataConversionWarning: A column-vector y was passed when a 1d array was expected. Please change the shape of y to (n_samples, ), for example using ravel().\n",
      "  import sys\n",
      "D:\\Anaconda\\lib\\site-packages\\ipykernel_launcher.py:7: DataConversionWarning: A column-vector y was passed when a 1d array was expected. Please change the shape of y to (n_samples, ), for example using ravel().\n",
      "  import sys\n",
      "D:\\Anaconda\\lib\\site-packages\\ipykernel_launcher.py:7: DataConversionWarning: A column-vector y was passed when a 1d array was expected. Please change the shape of y to (n_samples, ), for example using ravel().\n",
      "  import sys\n",
      "D:\\Anaconda\\lib\\site-packages\\ipykernel_launcher.py:7: DataConversionWarning: A column-vector y was passed when a 1d array was expected. Please change the shape of y to (n_samples, ), for example using ravel().\n",
      "  import sys\n"
     ]
    }
   ],
   "source": [
    "scaler_x= Scaler(bin_x)\n",
    "for i in range(3,10):\n",
    "    KNN(scaler_x,y,i)\n",
    "    print('k=',i,':',accurate_rate[i])"
   ]
  },
  {
   "cell_type": "code",
   "execution_count": null,
   "metadata": {},
   "outputs": [],
   "source": []
  },
  {
   "cell_type": "code",
   "execution_count": null,
   "metadata": {},
   "outputs": [],
   "source": []
  },
  {
   "cell_type": "code",
   "execution_count": null,
   "metadata": {},
   "outputs": [],
   "source": []
  },
  {
   "cell_type": "code",
   "execution_count": null,
   "metadata": {},
   "outputs": [],
   "source": []
  },
  {
   "cell_type": "code",
   "execution_count": null,
   "metadata": {},
   "outputs": [],
   "source": []
  },
  {
   "cell_type": "code",
   "execution_count": null,
   "metadata": {},
   "outputs": [],
   "source": []
  },
  {
   "cell_type": "code",
   "execution_count": null,
   "metadata": {},
   "outputs": [],
   "source": []
  },
  {
   "cell_type": "code",
   "execution_count": null,
   "metadata": {},
   "outputs": [],
   "source": []
  },
  {
   "cell_type": "code",
   "execution_count": null,
   "metadata": {},
   "outputs": [],
   "source": []
  },
  {
   "cell_type": "code",
   "execution_count": null,
   "metadata": {},
   "outputs": [],
   "source": []
  },
  {
   "cell_type": "code",
   "execution_count": null,
   "metadata": {},
   "outputs": [],
   "source": []
  },
  {
   "cell_type": "code",
   "execution_count": null,
   "metadata": {},
   "outputs": [],
   "source": []
  },
  {
   "cell_type": "code",
   "execution_count": null,
   "metadata": {},
   "outputs": [],
   "source": []
  }
 ],
 "metadata": {
  "kernelspec": {
   "display_name": "Python 3",
   "language": "python",
   "name": "python3"
  },
  "language_info": {
   "codemirror_mode": {
    "name": "ipython",
    "version": 3
   },
   "file_extension": ".py",
   "mimetype": "text/x-python",
   "name": "python",
   "nbconvert_exporter": "python",
   "pygments_lexer": "ipython3",
   "version": "3.7.1"
  }
 },
 "nbformat": 4,
 "nbformat_minor": 2
}
